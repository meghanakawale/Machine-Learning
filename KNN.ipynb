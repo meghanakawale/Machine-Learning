{
 "cells": [
  {
   "cell_type": "code",
   "execution_count": 1,
   "id": "a158b612-9eed-4d42-a10d-15b58f3ca7b0",
   "metadata": {},
   "outputs": [],
   "source": [
    "Loan_data=[\n",
    "    [50000,700,20000,0],\n",
    "    [60000,650,25000,1],\n",
    "    [55000],[720],[30000],\n",
    "    [45000],[600],[45000],[600],\n",
    "]"
   ]
  },
  {
   "cell_type": "code",
   "execution_count": 9,
   "id": "f5516f5f-e611-433b-acc3-6daa9b254761",
   "metadata": {},
   "outputs": [],
   "source": [
    "X_train = [[row] for row in Loan_data]  # Features: income, credit score, loan amount\n",
    "y_train = [[row] for row in Loan_data]   # Labels: 0 (not approved) or 1 (approved)"
   ]
  },
  {
   "cell_type": "code",
   "execution_count": 10,
   "id": "52398061-e98b-4e7c-983c-b0523ce13654",
   "metadata": {},
   "outputs": [],
   "source": [
    "#calculate distance\n",
    "\n",
    "def euclidean_distance(point1, point2):\n",
    "    distance = 0  # Initialize distance to zero\n",
    "    for i in range(len(point1)):  # Loop through each dimension\n",
    "        distance += (point1[i] - point2[i]) ** 2  # Square the difference\n",
    "    return distance ** 0.5  # Return the square root of the sum\n"
   ]
  },
  {
   "cell_type": "code",
   "execution_count": null,
   "id": "9ee8918c-ae49-4297-ba85-ea9c28c46483",
   "metadata": {},
   "outputs": [],
   "source": []
  }
 ],
 "metadata": {
  "kernelspec": {
   "display_name": "Python 3 (ipykernel)",
   "language": "python",
   "name": "python3"
  },
  "language_info": {
   "codemirror_mode": {
    "name": "ipython",
    "version": 3
   },
   "file_extension": ".py",
   "mimetype": "text/x-python",
   "name": "python",
   "nbconvert_exporter": "python",
   "pygments_lexer": "ipython3",
   "version": "3.11.7"
  }
 },
 "nbformat": 4,
 "nbformat_minor": 5
}
