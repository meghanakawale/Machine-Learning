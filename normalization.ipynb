{
 "cells": [
  {
   "cell_type": "code",
   "execution_count": 1,
   "id": "806a2b30-de8d-4bea-bf9a-4531c1a0d89c",
   "metadata": {},
   "outputs": [],
   "source": [
    "import pandas as pd"
   ]
  },
  {
   "cell_type": "markdown",
   "id": "d46c6324-7d5f-4960-be5f-f5ecf66c4b21",
   "metadata": {},
   "source": [
    "# Min Max"
   ]
  },
  {
   "cell_type": "code",
   "execution_count": 3,
   "id": "d4de700d-25f0-4910-b7f9-6c67a74eeb6e",
   "metadata": {},
   "outputs": [
    {
     "name": "stdout",
     "output_type": "stream",
     "text": [
      "Original Data:\n",
      "   Age  Salary\n",
      "0   25   50000\n",
      "1   30   60000\n",
      "2   22   52000\n",
      "3   35   58000\n",
      "4   28   62000\n"
     ]
    }
   ],
   "source": [
    "# Sample dataset\n",
    "data = {\n",
    "    'Age': [25, 30, 22, 35, 28],\n",
    "    'Salary': [50000, 60000, 52000, 58000, 62000]\n",
    "}\n",
    "\n",
    "df = pd.DataFrame(data)\n",
    "print(\"Original Data:\")\n",
    "print(df)\n"
   ]
  },
  {
   "cell_type": "code",
   "execution_count": 9,
   "id": "ab41a5f7-070b-4dcf-bbdf-9075152aad5f",
   "metadata": {},
   "outputs": [],
   "source": [
    "min_Age = df['Age'].min()\n",
    "max_Age = df['Age'].max()\n",
    "min_Salary = df['Salary'].min()\n",
    "max_Salary =df['Salary'].max()"
   ]
  },
  {
   "cell_type": "code",
   "execution_count": 11,
   "id": "a73c139c-a660-433d-9f0e-42188faa4246",
   "metadata": {},
   "outputs": [
    {
     "name": "stdout",
     "output_type": "stream",
     "text": [
      "\n",
      "Min-Max Normalized Data:\n",
      "        Age    Salary\n",
      "0  0.230769  0.000000\n",
      "1  0.615385  0.833333\n",
      "2  0.000000  0.166667\n",
      "3  1.000000  0.666667\n",
      "4  0.461538  1.000000\n"
     ]
    }
   ],
   "source": [
    "# Normalize Age\n",
    "df['Age'] = (df['Age'] - min_Age) / (max_Age - min_Age)\n",
    "\n",
    "# Normalize Salary\n",
    "df['Salary'] = (df['Salary'] - min_Salary) / (max_Salary - min_Salary)\n",
    "\n",
    "print(\"\\nMin-Max Normalized Data:\")\n",
    "print(df)\n"
   ]
  },
  {
   "cell_type": "markdown",
   "id": "f42ee7e8-447c-4556-8d83-a0b3caf1e6bf",
   "metadata": {},
   "source": [
    "# z Score"
   ]
  },
  {
   "cell_type": "code",
   "execution_count": 12,
   "id": "c61a8fab-7e03-4906-bcbc-652a5854ff61",
   "metadata": {},
   "outputs": [],
   "source": [
    "import pandas as pd "
   ]
  },
  {
   "cell_type": "code",
   "execution_count": 14,
   "id": "425f7912-0462-45d8-a051-af6e36611520",
   "metadata": {},
   "outputs": [
    {
     "name": "stdout",
     "output_type": "stream",
     "text": [
      "original data :\n",
      "   Age  Salary\n",
      "0   25   50000\n",
      "1   30   60000\n",
      "2   22   52000\n",
      "3   35   58000\n",
      "4   28   62000\n"
     ]
    }
   ],
   "source": [
    "data ={\n",
    "    'Age' :[25,30,22,35,28],\n",
    "    'Salary' :[50000,60000,52000,58000,62000]\n",
    "}\n",
    "df = pd.DataFrame(data)\n",
    "print(\"original data :\")\n",
    "print(df)"
   ]
  },
  {
   "cell_type": "code",
   "execution_count": 15,
   "id": "988e5f29-80f2-4278-b895-691bb18bcaa7",
   "metadata": {},
   "outputs": [
    {
     "name": "stdout",
     "output_type": "stream",
     "text": [
      "\n",
      " Z_scpre Normalization Data:\n",
      "        Age    Salary\n",
      "0 -0.606092 -1.236268\n",
      "1  0.404061  0.695401\n",
      "2 -1.212183 -0.849934\n",
      "3  1.414214  0.309067\n",
      "4  0.000000  1.081734\n"
     ]
    }
   ],
   "source": [
    "df_z_score =(df-df.mean())/ df.std()\n",
    "print(\"\\n Z_scpre Normalization Data:\")\n",
    "print(df_z_score)"
   ]
  },
  {
   "cell_type": "code",
   "execution_count": null,
   "id": "6e67abd8-90df-49cd-8488-18e5fd94ae9c",
   "metadata": {},
   "outputs": [],
   "source": []
  }
 ],
 "metadata": {
  "kernelspec": {
   "display_name": "Python 3 (ipykernel)",
   "language": "python",
   "name": "python3"
  },
  "language_info": {
   "codemirror_mode": {
    "name": "ipython",
    "version": 3
   },
   "file_extension": ".py",
   "mimetype": "text/x-python",
   "name": "python",
   "nbconvert_exporter": "python",
   "pygments_lexer": "ipython3",
   "version": "3.11.7"
  }
 },
 "nbformat": 4,
 "nbformat_minor": 5
}
