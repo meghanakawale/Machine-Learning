{
 "cells": [
  {
   "cell_type": "code",
   "execution_count": 1,
   "id": "f853bfc8-108a-498f-b0bc-454454afc80f",
   "metadata": {},
   "outputs": [
    {
     "name": "stdout",
     "output_type": "stream",
     "text": [
      "Requirement already satisfied: numpy in c:\\users\\niles\\anaconda3\\lib\\site-packages (1.26.4)Note: you may need to restart the kernel to use updated packages.\n",
      "\n"
     ]
    }
   ],
   "source": [
    "pip install numpy"
   ]
  },
  {
   "cell_type": "code",
   "execution_count": 2,
   "id": "853cbe48-7e29-4ca4-b264-349142435846",
   "metadata": {},
   "outputs": [],
   "source": [
    "import numpy as np"
   ]
  },
  {
   "cell_type": "code",
   "execution_count": null,
   "id": "00452c32-b761-41e2-84ae-9e7648a5190b",
   "metadata": {},
   "outputs": [],
   "source": []
  },
  {
   "cell_type": "markdown",
   "id": "e71ae571-1fe5-43e2-ad91-6aabebf1e6ed",
   "metadata": {},
   "source": [
    "# NumPy Array"
   ]
  },
  {
   "cell_type": "code",
   "execution_count": 4,
   "id": "e033b2b6-2795-4945-ac0d-0851841aa3df",
   "metadata": {},
   "outputs": [],
   "source": [
    "arr=np.array([1,2,3,4])"
   ]
  },
  {
   "cell_type": "markdown",
   "id": "60de32c3-9d95-460b-9f99-ef423df16b70",
   "metadata": {},
   "source": [
    "# Array operation"
   ]
  },
  {
   "cell_type": "code",
   "execution_count": 5,
   "id": "c99585aa-66cf-4297-887c-dbf57fa94795",
   "metadata": {},
   "outputs": [
    {
     "name": "stdout",
     "output_type": "stream",
     "text": [
      "[3 4 5 6]\n"
     ]
    }
   ],
   "source": [
    "arr=np.array([1,2,3,4])\n",
    "print(arr+2)"
   ]
  },
  {
   "cell_type": "code",
   "execution_count": 7,
   "id": "f7ff4fac-9dbe-4643-82fb-268e2997858d",
   "metadata": {},
   "outputs": [
    {
     "name": "stdout",
     "output_type": "stream",
     "text": [
      "[ 6  8 10 12]\n"
     ]
    }
   ],
   "source": [
    "arr1=np.array([1,2,3,4])\n",
    "arr2=np.array([5,6,7,8])\n",
    "print(arr1+arr2)"
   ]
  },
  {
   "cell_type": "code",
   "execution_count": 8,
   "id": "936c5371-fd3b-4942-9cdc-adf2974ff80e",
   "metadata": {},
   "outputs": [
    {
     "name": "stdout",
     "output_type": "stream",
     "text": [
      "[2 4 6]\n"
     ]
    }
   ],
   "source": [
    "arr=np.array([1,2,3])\n",
    "print(arr*2)"
   ]
  },
  {
   "cell_type": "code",
   "execution_count": 9,
   "id": "87527c30-3995-4986-a060-c00806c3fd45",
   "metadata": {},
   "outputs": [
    {
     "name": "stdout",
     "output_type": "stream",
     "text": [
      "[3 4 5]\n"
     ]
    }
   ],
   "source": [
    "print(arr+2)"
   ]
  },
  {
   "cell_type": "code",
   "execution_count": 10,
   "id": "82f5c330-0ac3-428c-9154-956cabf31a6f",
   "metadata": {},
   "outputs": [
    {
     "name": "stdout",
     "output_type": "stream",
     "text": [
      "[-1  0  1]\n"
     ]
    }
   ],
   "source": [
    "print(arr-2)"
   ]
  },
  {
   "cell_type": "code",
   "execution_count": 11,
   "id": "7b1ac03a-1e75-4720-9dfc-908cfc993749",
   "metadata": {},
   "outputs": [
    {
     "name": "stdout",
     "output_type": "stream",
     "text": [
      "[0.5 1.  1.5]\n"
     ]
    }
   ],
   "source": [
    "print(arr/2)"
   ]
  },
  {
   "cell_type": "markdown",
   "id": "d4b7c123-1223-4898-baca-1d9edd4103f2",
   "metadata": {},
   "source": [
    "# indexing and slicing"
   ]
  },
  {
   "cell_type": "code",
   "execution_count": 12,
   "id": "cbdffd8f-1e42-4cfd-9573-c4b31233fdb9",
   "metadata": {},
   "outputs": [
    {
     "name": "stdout",
     "output_type": "stream",
     "text": [
      "1\n"
     ]
    }
   ],
   "source": [
    "arr=np.array([1,2,3,4,5])\n",
    "print(arr[0])"
   ]
  },
  {
   "cell_type": "code",
   "execution_count": 13,
   "id": "57c5b746-3ab6-445a-90ed-616f47060736",
   "metadata": {},
   "outputs": [
    {
     "name": "stdout",
     "output_type": "stream",
     "text": [
      "[2 3 4]\n"
     ]
    }
   ],
   "source": [
    "arr=np.array([1,2,3,4,5])\n",
    "print(arr[1:4])"
   ]
  },
  {
   "cell_type": "code",
   "execution_count": 15,
   "id": "cf07e017-78b2-4701-b24b-45d4813b421e",
   "metadata": {},
   "outputs": [
    {
     "name": "stdout",
     "output_type": "stream",
     "text": [
      "6\n"
     ]
    }
   ],
   "source": [
    "arr=np.array([[1,2,3],[4,5,6],[7,8,9]])\n",
    "print(arr[1,2])"
   ]
  },
  {
   "cell_type": "markdown",
   "id": "a84d7b2f-c139-4968-a6f8-74c810fbbd45",
   "metadata": {},
   "source": [
    "# mathematical function"
   ]
  },
  {
   "cell_type": "code",
   "execution_count": 16,
   "id": "72ddba06-637b-4a34-9b35-824d666df7e8",
   "metadata": {},
   "outputs": [
    {
     "name": "stdout",
     "output_type": "stream",
     "text": [
      "15\n",
      "3.0\n",
      "1.4142135623730951\n"
     ]
    }
   ],
   "source": [
    "arr=np.array([1,2,3,4,5])\n",
    "print(np.sum(arr))\n",
    "print(np.mean(arr))\n",
    "print(np.std(arr))\n"
   ]
  },
  {
   "cell_type": "markdown",
   "id": "09b1a50e-0a48-48a3-adb3-b3fe1b134978",
   "metadata": {},
   "source": [
    "# Matrix Operation"
   ]
  },
  {
   "cell_type": "code",
   "execution_count": 17,
   "id": "e091f362-ee40-4b10-9e30-adb17be181ac",
   "metadata": {},
   "outputs": [
    {
     "name": "stdout",
     "output_type": "stream",
     "text": [
      "[[19 22]\n",
      " [43 50]]\n"
     ]
    }
   ],
   "source": [
    "matrix1=np.array([[1,2],[3,4]])\n",
    "matrix2=np.array([[5,6],[7,8]])\n",
    "print(np.dot(matrix1,matrix2))"
   ]
  },
  {
   "cell_type": "code",
   "execution_count": 20,
   "id": "5e79012d-828d-4b54-89d5-9ed5b348d3fd",
   "metadata": {},
   "outputs": [],
   "source": [
    "matrix=np.array([[1,2],[3,4]])\n",
    "values, vectors=np.linalg.eig(matrix)"
   ]
  },
  {
   "cell_type": "markdown",
   "id": "35a639ea-3be7-4cc7-9736-883fc17ac179",
   "metadata": {},
   "source": [
    "# Random Module"
   ]
  },
  {
   "cell_type": "code",
   "execution_count": 21,
   "id": "2aa1aa62-3b21-450c-bdaa-3cfd9eae61c9",
   "metadata": {},
   "outputs": [
    {
     "name": "stdout",
     "output_type": "stream",
     "text": [
      "[0.88867557 0.16336133 0.64817464]\n",
      "[0 1 3 2 8]\n"
     ]
    }
   ],
   "source": [
    "print(np.random.rand(3))\n",
    "print(np.random.randint(0,10,5))"
   ]
  },
  {
   "cell_type": "code",
   "execution_count": null,
   "id": "3199b490-846b-43f2-a0f7-535be75cf0c5",
   "metadata": {},
   "outputs": [],
   "source": []
  }
 ],
 "metadata": {
  "kernelspec": {
   "display_name": "Python 3 (ipykernel)",
   "language": "python",
   "name": "python3"
  },
  "language_info": {
   "codemirror_mode": {
    "name": "ipython",
    "version": 3
   },
   "file_extension": ".py",
   "mimetype": "text/x-python",
   "name": "python",
   "nbconvert_exporter": "python",
   "pygments_lexer": "ipython3",
   "version": "3.11.7"
  }
 },
 "nbformat": 4,
 "nbformat_minor": 5
}
