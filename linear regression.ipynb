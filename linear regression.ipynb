{
 "cells": [
  {
   "cell_type": "code",
   "execution_count": 8,
   "id": "1a88a6f5-e837-4ab7-af33-218352b053e0",
   "metadata": {},
   "outputs": [],
   "source": [
    "import numpy as np \n",
    "import matplotlib.pyplot as plt\n",
    "\n"
   ]
  },
  {
   "cell_type": "code",
   "execution_count": 9,
   "id": "3d7567cc-b3f2-42de-989d-ce6682455f4b",
   "metadata": {},
   "outputs": [],
   "source": [
    "# House sizes (independent variable)\n",
    "x = np.array([850, 900, 1000, 1200, 1400, 1600, 1800, 2000])\n",
    "\n",
    "# House prices (dependent variable)\n",
    "y = np.array([170000, 180000, 200000, 240000, 280000, 320000, 360000, 400000])\n"
   ]
  },
  {
   "cell_type": "code",
   "execution_count": 13,
   "id": "e73bc0b2-0b11-4ef4-8b85-9ca004ee3b3b",
   "metadata": {},
   "outputs": [
    {
     "name": "stdout",
     "output_type": "stream",
     "text": [
      "The equation of the line is: y = 200.0x + 0.0\n"
     ]
    },
    {
     "name": "stderr",
     "output_type": "stream",
     "text": [
      "C:\\Users\\niles\\AppData\\Local\\Temp\\ipykernel_7708\\3617935255.py:11: RuntimeWarning: overflow encountered in scalar multiply\n",
      "  m = (n * sum_xy - sum_x * sum_y) / (n * sum_x_squared - sum_x**2)\n",
      "C:\\Users\\niles\\AppData\\Local\\Temp\\ipykernel_7708\\3617935255.py:11: RuntimeWarning: overflow encountered in scalar subtract\n",
      "  m = (n * sum_xy - sum_x * sum_y) / (n * sum_x_squared - sum_x**2)\n"
     ]
    }
   ],
   "source": [
    "# Number of data points\n",
    "n = len(x)\n",
    "\n",
    "# Calculate the sums\n",
    "sum_x = np.sum(x)\n",
    "sum_y = np.sum(y)\n",
    "sum_x_squared = np.sum(x**2)\n",
    "sum_xy = np.sum(x * y)\n",
    "\n",
    "# Calculate the slope (m)\n",
    "m = (n * sum_xy - sum_x * sum_y) / (n * sum_x_squared - sum_x**2)\n",
    "\n",
    "# Calculate the intercept (b)\n",
    "b = (sum_y - m * sum_x) / n\n",
    "\n",
    "# Print the equation of the line\n",
    "print(f\"The equation of the line is: y = {m}x + {b}\")\n"
   ]
  },
  {
   "cell_type": "code",
   "execution_count": 15,
   "id": "d947f035-a09a-46a8-b170-8f2af8423fd9",
   "metadata": {},
   "outputs": [
    {
     "name": "stdout",
     "output_type": "stream",
     "text": [
      "Predicted price for 1500 sq ft house: 300000.0\n",
      "Predicted prices: [170000. 180000. 200000. 240000. 280000. 320000. 360000. 400000.]\n"
     ]
    }
   ],
   "source": [
    "# Predict price for a house with size 1500 sq ft\n",
    "house_size = 1500\n",
    "predicted_price = m * house_size + b\n",
    "print(f\"Predicted price for {house_size} sq ft house: {predicted_price}\")\n",
    "\n",
    "# Predict prices for all house sizes in the dataset\n",
    "predicted_prices = m * x + b\n",
    "print(f\"Predicted prices: {predicted_prices}\")\n"
   ]
  },
  {
   "cell_type": "code",
   "execution_count": null,
   "id": "a7d5dcda-a901-4268-8f68-42b7dff83f66",
   "metadata": {},
   "outputs": [],
   "source": []
  }
 ],
 "metadata": {
  "kernelspec": {
   "display_name": "Python 3 (ipykernel)",
   "language": "python",
   "name": "python3"
  },
  "language_info": {
   "codemirror_mode": {
    "name": "ipython",
    "version": 3
   },
   "file_extension": ".py",
   "mimetype": "text/x-python",
   "name": "python",
   "nbconvert_exporter": "python",
   "pygments_lexer": "ipython3",
   "version": "3.11.7"
  }
 },
 "nbformat": 4,
 "nbformat_minor": 5
}
