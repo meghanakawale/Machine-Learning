{
 "cells": [
  {
   "cell_type": "code",
   "execution_count": 3,
   "id": "827182cc-51e1-47e3-ba28-95b82bd7e791",
   "metadata": {},
   "outputs": [],
   "source": [
    "import pandas as pd\n",
    "import numpy as np"
   ]
  },
  {
   "cell_type": "code",
   "execution_count": 5,
   "id": "d3b77377-3a4c-4ca7-8a66-6d373b1dfe22",
   "metadata": {},
   "outputs": [
    {
     "name": "stdout",
     "output_type": "stream",
     "text": [
      "DatetimeIndex(['2024-01-01', '2024-01-02', '2024-01-03', '2024-01-04',\n",
      "               '2024-01-05', '2024-01-06', '2024-01-07', '2024-01-08',\n",
      "               '2024-01-09', '2024-01-10',\n",
      "               ...\n",
      "               '2024-04-01', '2024-04-02', '2024-04-03', '2024-04-04',\n",
      "               '2024-04-05', '2024-04-06', '2024-04-07', '2024-04-08',\n",
      "               '2024-04-09', '2024-04-10'],\n",
      "              dtype='datetime64[ns]', length=101, freq='D')\n"
     ]
    }
   ],
   "source": [
    "#creating data range\n",
    "date_range = pd.date_range(start='2024-01-01', end='4-10-2024',freq='D')\n",
    "print(date_range)"
   ]
  },
  {
   "cell_type": "code",
   "execution_count": 7,
   "id": "3237e624-c964-4907-879b-d72fde192758",
   "metadata": {},
   "outputs": [
    {
     "name": "stdout",
     "output_type": "stream",
     "text": [
      "2024-01-01    63\n",
      "2024-01-02    15\n",
      "2024-01-03    34\n",
      "2024-01-04    50\n",
      "2024-01-05    71\n",
      "              ..\n",
      "2024-04-06    30\n",
      "2024-04-07    34\n",
      "2024-04-08    49\n",
      "2024-04-09    67\n",
      "2024-04-10    60\n",
      "Freq: D, Length: 101, dtype: int32\n"
     ]
    }
   ],
   "source": [
    "# Assigning random data for each date in the range\n",
    "data = np.random.randint(10, 100, size=(len(date_range)))\n",
    "\n",
    "# Creating a time series using Pandas Series\n",
    "time_series = pd.Series(data=data, index=date_range)\n",
    "print(time_series)\n"
   ]
  },
  {
   "cell_type": "code",
   "execution_count": 8,
   "id": "55702c62-3ce3-4d9c-aa9c-92668ee91471",
   "metadata": {},
   "outputs": [
    {
     "name": "stdout",
     "output_type": "stream",
     "text": [
      "2024-01-01    81\n",
      "2024-01-02    76\n",
      "2024-01-03    80\n",
      "2024-01-04    25\n",
      "2024-01-05    19\n",
      "              ..\n",
      "2024-04-06    37\n",
      "2024-04-07    15\n",
      "2024-04-08    74\n",
      "2024-04-09    43\n",
      "2024-04-10    21\n",
      "Freq: D, Length: 101, dtype: int32\n"
     ]
    }
   ],
   "source": [
    "# Assigning random data for each date in the range\n",
    "data = np.random.randint(10, 100, size=(len(date_range)))\n",
    "\n",
    "# Creating a time series using Pandas Series\n",
    "time_series = pd.Series(data=data, index=date_range)\n",
    "print(time_series)\n"
   ]
  },
  {
   "cell_type": "code",
   "execution_count": null,
   "id": "e60652ce-175d-47b9-9a21-2b7229d0b423",
   "metadata": {},
   "outputs": [],
   "source": []
  }
 ],
 "metadata": {
  "kernelspec": {
   "display_name": "Python 3 (ipykernel)",
   "language": "python",
   "name": "python3"
  },
  "language_info": {
   "codemirror_mode": {
    "name": "ipython",
    "version": 3
   },
   "file_extension": ".py",
   "mimetype": "text/x-python",
   "name": "python",
   "nbconvert_exporter": "python",
   "pygments_lexer": "ipython3",
   "version": "3.11.7"
  }
 },
 "nbformat": 4,
 "nbformat_minor": 5
}
